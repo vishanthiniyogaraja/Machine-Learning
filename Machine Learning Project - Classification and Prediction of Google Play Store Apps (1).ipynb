{
 "cells": [
  {
   "cell_type": "code",
   "execution_count": 6,
   "metadata": {},
   "outputs": [],
   "source": [
    "import os\n",
    "import csv\n",
    "import random\n",
    "import numpy as np\n",
    "import pandas as pd\n",
    "import seaborn as sns\n",
    "from sklearn import metrics\n",
    "import matplotlib.pyplot as plt\n",
    "from sklearn import preprocessing\n",
    "from sklearn.metrics import r2_score\n",
    "from sklearn.naive_bayes import GaussianNB\n",
    "from sklearn.tree import DecisionTreeClassifier\n",
    "from sklearn.neural_network import MLPClassifier\n",
    "from sklearn.linear_model import LinearRegression\n",
    "from sklearn.ensemble import RandomForestRegressor\n",
    "from sklearn.neighbors import KNeighborsClassifier\n",
    "from sklearn.linear_model import LogisticRegression\n",
    "from sklearn.metrics import confusion_matrix, accuracy_score\n",
    "from sklearn.preprocessing import StandardScaler"
   ]
  },
  {
   "cell_type": "code",
   "execution_count": 7,
   "metadata": {},
   "outputs": [],
   "source": [
    "gps= pd.read_csv(\"C:/Users/visha/Desktop/Assignment ML/googleplaystore.csv\")\n"
   ]
  },
  {
   "cell_type": "code",
   "execution_count": 8,
   "metadata": {},
   "outputs": [
    {
     "data": {
      "text/plain": [
       "(10841, 13)"
      ]
     },
     "execution_count": 8,
     "metadata": {},
     "output_type": "execute_result"
    }
   ],
   "source": [
    "gps.shape"
   ]
  },
  {
   "cell_type": "code",
   "execution_count": 9,
   "metadata": {},
   "outputs": [
    {
     "data": {
      "text/html": [
       "<div>\n",
       "<style scoped>\n",
       "    .dataframe tbody tr th:only-of-type {\n",
       "        vertical-align: middle;\n",
       "    }\n",
       "\n",
       "    .dataframe tbody tr th {\n",
       "        vertical-align: top;\n",
       "    }\n",
       "\n",
       "    .dataframe thead th {\n",
       "        text-align: right;\n",
       "    }\n",
       "</style>\n",
       "<table border=\"1\" class=\"dataframe\">\n",
       "  <thead>\n",
       "    <tr style=\"text-align: right;\">\n",
       "      <th></th>\n",
       "      <th>App</th>\n",
       "      <th>Category</th>\n",
       "      <th>Rating</th>\n",
       "      <th>Reviews</th>\n",
       "      <th>Size</th>\n",
       "      <th>Installs</th>\n",
       "      <th>Type</th>\n",
       "      <th>Price</th>\n",
       "      <th>Content Rating</th>\n",
       "      <th>Genres</th>\n",
       "      <th>Last Updated</th>\n",
       "      <th>Current Ver</th>\n",
       "      <th>Android Ver</th>\n",
       "    </tr>\n",
       "  </thead>\n",
       "  <tbody>\n",
       "    <tr>\n",
       "      <th>0</th>\n",
       "      <td>Photo Editor &amp; Candy Camera &amp; Grid &amp; ScrapBook</td>\n",
       "      <td>ART_AND_DESIGN</td>\n",
       "      <td>4.1</td>\n",
       "      <td>159</td>\n",
       "      <td>19M</td>\n",
       "      <td>10,000+</td>\n",
       "      <td>Free</td>\n",
       "      <td>0</td>\n",
       "      <td>Everyone</td>\n",
       "      <td>Art &amp; Design</td>\n",
       "      <td>January 7, 2018</td>\n",
       "      <td>1.0.0</td>\n",
       "      <td>4.0.3 and up</td>\n",
       "    </tr>\n",
       "    <tr>\n",
       "      <th>1</th>\n",
       "      <td>Coloring book moana</td>\n",
       "      <td>ART_AND_DESIGN</td>\n",
       "      <td>3.9</td>\n",
       "      <td>967</td>\n",
       "      <td>14M</td>\n",
       "      <td>500,000+</td>\n",
       "      <td>Free</td>\n",
       "      <td>0</td>\n",
       "      <td>Everyone</td>\n",
       "      <td>Art &amp; Design;Pretend Play</td>\n",
       "      <td>January 15, 2018</td>\n",
       "      <td>2.0.0</td>\n",
       "      <td>4.0.3 and up</td>\n",
       "    </tr>\n",
       "    <tr>\n",
       "      <th>2</th>\n",
       "      <td>U Launcher Lite – FREE Live Cool Themes, Hide ...</td>\n",
       "      <td>ART_AND_DESIGN</td>\n",
       "      <td>4.7</td>\n",
       "      <td>87510</td>\n",
       "      <td>8.7M</td>\n",
       "      <td>5,000,000+</td>\n",
       "      <td>Free</td>\n",
       "      <td>0</td>\n",
       "      <td>Everyone</td>\n",
       "      <td>Art &amp; Design</td>\n",
       "      <td>August 1, 2018</td>\n",
       "      <td>1.2.4</td>\n",
       "      <td>4.0.3 and up</td>\n",
       "    </tr>\n",
       "    <tr>\n",
       "      <th>3</th>\n",
       "      <td>Sketch - Draw &amp; Paint</td>\n",
       "      <td>ART_AND_DESIGN</td>\n",
       "      <td>4.5</td>\n",
       "      <td>215644</td>\n",
       "      <td>25M</td>\n",
       "      <td>50,000,000+</td>\n",
       "      <td>Free</td>\n",
       "      <td>0</td>\n",
       "      <td>Teen</td>\n",
       "      <td>Art &amp; Design</td>\n",
       "      <td>June 8, 2018</td>\n",
       "      <td>Varies with device</td>\n",
       "      <td>4.2 and up</td>\n",
       "    </tr>\n",
       "    <tr>\n",
       "      <th>4</th>\n",
       "      <td>Pixel Draw - Number Art Coloring Book</td>\n",
       "      <td>ART_AND_DESIGN</td>\n",
       "      <td>4.3</td>\n",
       "      <td>967</td>\n",
       "      <td>2.8M</td>\n",
       "      <td>100,000+</td>\n",
       "      <td>Free</td>\n",
       "      <td>0</td>\n",
       "      <td>Everyone</td>\n",
       "      <td>Art &amp; Design;Creativity</td>\n",
       "      <td>June 20, 2018</td>\n",
       "      <td>1.1</td>\n",
       "      <td>4.4 and up</td>\n",
       "    </tr>\n",
       "  </tbody>\n",
       "</table>\n",
       "</div>"
      ],
      "text/plain": [
       "                                                 App        Category  Rating  \\\n",
       "0     Photo Editor & Candy Camera & Grid & ScrapBook  ART_AND_DESIGN     4.1   \n",
       "1                                Coloring book moana  ART_AND_DESIGN     3.9   \n",
       "2  U Launcher Lite – FREE Live Cool Themes, Hide ...  ART_AND_DESIGN     4.7   \n",
       "3                              Sketch - Draw & Paint  ART_AND_DESIGN     4.5   \n",
       "4              Pixel Draw - Number Art Coloring Book  ART_AND_DESIGN     4.3   \n",
       "\n",
       "  Reviews  Size     Installs  Type Price Content Rating  \\\n",
       "0     159   19M      10,000+  Free     0       Everyone   \n",
       "1     967   14M     500,000+  Free     0       Everyone   \n",
       "2   87510  8.7M   5,000,000+  Free     0       Everyone   \n",
       "3  215644   25M  50,000,000+  Free     0           Teen   \n",
       "4     967  2.8M     100,000+  Free     0       Everyone   \n",
       "\n",
       "                      Genres      Last Updated         Current Ver  \\\n",
       "0               Art & Design   January 7, 2018               1.0.0   \n",
       "1  Art & Design;Pretend Play  January 15, 2018               2.0.0   \n",
       "2               Art & Design    August 1, 2018               1.2.4   \n",
       "3               Art & Design      June 8, 2018  Varies with device   \n",
       "4    Art & Design;Creativity     June 20, 2018                 1.1   \n",
       "\n",
       "    Android Ver  \n",
       "0  4.0.3 and up  \n",
       "1  4.0.3 and up  \n",
       "2  4.0.3 and up  \n",
       "3    4.2 and up  \n",
       "4    4.4 and up  "
      ]
     },
     "execution_count": 9,
     "metadata": {},
     "output_type": "execute_result"
    }
   ],
   "source": [
    "gps.head()"
   ]
  },
  {
   "cell_type": "code",
   "execution_count": 10,
   "metadata": {},
   "outputs": [],
   "source": [
    "gps['Rating'].fillna((gps['Rating'].mean()), inplace=True)"
   ]
  },
  {
   "cell_type": "code",
   "execution_count": 11,
   "metadata": {},
   "outputs": [],
   "source": [
    "#DATA CLEANING"
   ]
  },
  {
   "cell_type": "code",
   "execution_count": 12,
   "metadata": {},
   "outputs": [
    {
     "name": "stdout",
     "output_type": "stream",
     "text": [
      "Number of unique apps: 9660\n"
     ]
    }
   ],
   "source": [
    "#total number of unique apps in dataset\n",
    "no_of_apps = gps[\"App\"].nunique()\n",
    "print(f\"Number of unique apps: {no_of_apps}\")"
   ]
  },
  {
   "cell_type": "code",
   "execution_count": 13,
   "metadata": {},
   "outputs": [
    {
     "data": {
      "text/html": [
       "<div>\n",
       "<style scoped>\n",
       "    .dataframe tbody tr th:only-of-type {\n",
       "        vertical-align: middle;\n",
       "    }\n",
       "\n",
       "    .dataframe tbody tr th {\n",
       "        vertical-align: top;\n",
       "    }\n",
       "\n",
       "    .dataframe thead th {\n",
       "        text-align: right;\n",
       "    }\n",
       "</style>\n",
       "<table border=\"1\" class=\"dataframe\">\n",
       "  <thead>\n",
       "    <tr style=\"text-align: right;\">\n",
       "      <th></th>\n",
       "      <th>App</th>\n",
       "      <th>Category</th>\n",
       "      <th>Rating</th>\n",
       "      <th>Reviews</th>\n",
       "      <th>Size</th>\n",
       "      <th>Installs</th>\n",
       "      <th>Type</th>\n",
       "      <th>Price</th>\n",
       "      <th>Content Rating</th>\n",
       "      <th>Genres</th>\n",
       "      <th>Last Updated</th>\n",
       "      <th>Current Ver</th>\n",
       "      <th>Android Ver</th>\n",
       "    </tr>\n",
       "  </thead>\n",
       "  <tbody>\n",
       "    <tr>\n",
       "      <th>0</th>\n",
       "      <td>Photo Editor &amp; Candy Camera &amp; Grid &amp; ScrapBook</td>\n",
       "      <td>ART_AND_DESIGN</td>\n",
       "      <td>4.100000</td>\n",
       "      <td>159</td>\n",
       "      <td>19M</td>\n",
       "      <td>10,000+</td>\n",
       "      <td>Free</td>\n",
       "      <td>0</td>\n",
       "      <td>Everyone</td>\n",
       "      <td>Art &amp; Design</td>\n",
       "      <td>January 7, 2018</td>\n",
       "      <td>1.0.0</td>\n",
       "      <td>4.0.3 and up</td>\n",
       "    </tr>\n",
       "    <tr>\n",
       "      <th>1</th>\n",
       "      <td>Coloring book moana</td>\n",
       "      <td>ART_AND_DESIGN</td>\n",
       "      <td>3.900000</td>\n",
       "      <td>967</td>\n",
       "      <td>14M</td>\n",
       "      <td>500,000+</td>\n",
       "      <td>Free</td>\n",
       "      <td>0</td>\n",
       "      <td>Everyone</td>\n",
       "      <td>Art &amp; Design;Pretend Play</td>\n",
       "      <td>January 15, 2018</td>\n",
       "      <td>2.0.0</td>\n",
       "      <td>4.0.3 and up</td>\n",
       "    </tr>\n",
       "    <tr>\n",
       "      <th>2</th>\n",
       "      <td>U Launcher Lite – FREE Live Cool Themes, Hide ...</td>\n",
       "      <td>ART_AND_DESIGN</td>\n",
       "      <td>4.700000</td>\n",
       "      <td>87510</td>\n",
       "      <td>8.7M</td>\n",
       "      <td>5,000,000+</td>\n",
       "      <td>Free</td>\n",
       "      <td>0</td>\n",
       "      <td>Everyone</td>\n",
       "      <td>Art &amp; Design</td>\n",
       "      <td>August 1, 2018</td>\n",
       "      <td>1.2.4</td>\n",
       "      <td>4.0.3 and up</td>\n",
       "    </tr>\n",
       "    <tr>\n",
       "      <th>3</th>\n",
       "      <td>Sketch - Draw &amp; Paint</td>\n",
       "      <td>ART_AND_DESIGN</td>\n",
       "      <td>4.500000</td>\n",
       "      <td>215644</td>\n",
       "      <td>25M</td>\n",
       "      <td>50,000,000+</td>\n",
       "      <td>Free</td>\n",
       "      <td>0</td>\n",
       "      <td>Teen</td>\n",
       "      <td>Art &amp; Design</td>\n",
       "      <td>June 8, 2018</td>\n",
       "      <td>Varies with device</td>\n",
       "      <td>4.2 and up</td>\n",
       "    </tr>\n",
       "    <tr>\n",
       "      <th>4</th>\n",
       "      <td>Pixel Draw - Number Art Coloring Book</td>\n",
       "      <td>ART_AND_DESIGN</td>\n",
       "      <td>4.300000</td>\n",
       "      <td>967</td>\n",
       "      <td>2.8M</td>\n",
       "      <td>100,000+</td>\n",
       "      <td>Free</td>\n",
       "      <td>0</td>\n",
       "      <td>Everyone</td>\n",
       "      <td>Art &amp; Design;Creativity</td>\n",
       "      <td>June 20, 2018</td>\n",
       "      <td>1.1</td>\n",
       "      <td>4.4 and up</td>\n",
       "    </tr>\n",
       "    <tr>\n",
       "      <th>...</th>\n",
       "      <td>...</td>\n",
       "      <td>...</td>\n",
       "      <td>...</td>\n",
       "      <td>...</td>\n",
       "      <td>...</td>\n",
       "      <td>...</td>\n",
       "      <td>...</td>\n",
       "      <td>...</td>\n",
       "      <td>...</td>\n",
       "      <td>...</td>\n",
       "      <td>...</td>\n",
       "      <td>...</td>\n",
       "      <td>...</td>\n",
       "    </tr>\n",
       "    <tr>\n",
       "      <th>10836</th>\n",
       "      <td>Sya9a Maroc - FR</td>\n",
       "      <td>FAMILY</td>\n",
       "      <td>4.500000</td>\n",
       "      <td>38</td>\n",
       "      <td>53M</td>\n",
       "      <td>5,000+</td>\n",
       "      <td>Free</td>\n",
       "      <td>0</td>\n",
       "      <td>Everyone</td>\n",
       "      <td>Education</td>\n",
       "      <td>July 25, 2017</td>\n",
       "      <td>1.48</td>\n",
       "      <td>4.1 and up</td>\n",
       "    </tr>\n",
       "    <tr>\n",
       "      <th>10837</th>\n",
       "      <td>Fr. Mike Schmitz Audio Teachings</td>\n",
       "      <td>FAMILY</td>\n",
       "      <td>5.000000</td>\n",
       "      <td>4</td>\n",
       "      <td>3.6M</td>\n",
       "      <td>100+</td>\n",
       "      <td>Free</td>\n",
       "      <td>0</td>\n",
       "      <td>Everyone</td>\n",
       "      <td>Education</td>\n",
       "      <td>July 6, 2018</td>\n",
       "      <td>1.0</td>\n",
       "      <td>4.1 and up</td>\n",
       "    </tr>\n",
       "    <tr>\n",
       "      <th>10838</th>\n",
       "      <td>Parkinson Exercices FR</td>\n",
       "      <td>MEDICAL</td>\n",
       "      <td>4.193338</td>\n",
       "      <td>3</td>\n",
       "      <td>9.5M</td>\n",
       "      <td>1,000+</td>\n",
       "      <td>Free</td>\n",
       "      <td>0</td>\n",
       "      <td>Everyone</td>\n",
       "      <td>Medical</td>\n",
       "      <td>January 20, 2017</td>\n",
       "      <td>1.0</td>\n",
       "      <td>2.2 and up</td>\n",
       "    </tr>\n",
       "    <tr>\n",
       "      <th>10839</th>\n",
       "      <td>The SCP Foundation DB fr nn5n</td>\n",
       "      <td>BOOKS_AND_REFERENCE</td>\n",
       "      <td>4.500000</td>\n",
       "      <td>114</td>\n",
       "      <td>Varies with device</td>\n",
       "      <td>1,000+</td>\n",
       "      <td>Free</td>\n",
       "      <td>0</td>\n",
       "      <td>Mature 17+</td>\n",
       "      <td>Books &amp; Reference</td>\n",
       "      <td>January 19, 2015</td>\n",
       "      <td>Varies with device</td>\n",
       "      <td>Varies with device</td>\n",
       "    </tr>\n",
       "    <tr>\n",
       "      <th>10840</th>\n",
       "      <td>iHoroscope - 2018 Daily Horoscope &amp; Astrology</td>\n",
       "      <td>LIFESTYLE</td>\n",
       "      <td>4.500000</td>\n",
       "      <td>398307</td>\n",
       "      <td>19M</td>\n",
       "      <td>10,000,000+</td>\n",
       "      <td>Free</td>\n",
       "      <td>0</td>\n",
       "      <td>Everyone</td>\n",
       "      <td>Lifestyle</td>\n",
       "      <td>July 25, 2018</td>\n",
       "      <td>Varies with device</td>\n",
       "      <td>Varies with device</td>\n",
       "    </tr>\n",
       "  </tbody>\n",
       "</table>\n",
       "<p>10841 rows × 13 columns</p>\n",
       "</div>"
      ],
      "text/plain": [
       "                                                     App             Category  \\\n",
       "0         Photo Editor & Candy Camera & Grid & ScrapBook       ART_AND_DESIGN   \n",
       "1                                    Coloring book moana       ART_AND_DESIGN   \n",
       "2      U Launcher Lite – FREE Live Cool Themes, Hide ...       ART_AND_DESIGN   \n",
       "3                                  Sketch - Draw & Paint       ART_AND_DESIGN   \n",
       "4                  Pixel Draw - Number Art Coloring Book       ART_AND_DESIGN   \n",
       "...                                                  ...                  ...   \n",
       "10836                                   Sya9a Maroc - FR               FAMILY   \n",
       "10837                   Fr. Mike Schmitz Audio Teachings               FAMILY   \n",
       "10838                             Parkinson Exercices FR              MEDICAL   \n",
       "10839                      The SCP Foundation DB fr nn5n  BOOKS_AND_REFERENCE   \n",
       "10840      iHoroscope - 2018 Daily Horoscope & Astrology            LIFESTYLE   \n",
       "\n",
       "         Rating Reviews                Size     Installs  Type Price  \\\n",
       "0      4.100000     159                 19M      10,000+  Free     0   \n",
       "1      3.900000     967                 14M     500,000+  Free     0   \n",
       "2      4.700000   87510                8.7M   5,000,000+  Free     0   \n",
       "3      4.500000  215644                 25M  50,000,000+  Free     0   \n",
       "4      4.300000     967                2.8M     100,000+  Free     0   \n",
       "...         ...     ...                 ...          ...   ...   ...   \n",
       "10836  4.500000      38                 53M       5,000+  Free     0   \n",
       "10837  5.000000       4                3.6M         100+  Free     0   \n",
       "10838  4.193338       3                9.5M       1,000+  Free     0   \n",
       "10839  4.500000     114  Varies with device       1,000+  Free     0   \n",
       "10840  4.500000  398307                 19M  10,000,000+  Free     0   \n",
       "\n",
       "      Content Rating                     Genres      Last Updated  \\\n",
       "0           Everyone               Art & Design   January 7, 2018   \n",
       "1           Everyone  Art & Design;Pretend Play  January 15, 2018   \n",
       "2           Everyone               Art & Design    August 1, 2018   \n",
       "3               Teen               Art & Design      June 8, 2018   \n",
       "4           Everyone    Art & Design;Creativity     June 20, 2018   \n",
       "...              ...                        ...               ...   \n",
       "10836       Everyone                  Education     July 25, 2017   \n",
       "10837       Everyone                  Education      July 6, 2018   \n",
       "10838       Everyone                    Medical  January 20, 2017   \n",
       "10839     Mature 17+          Books & Reference  January 19, 2015   \n",
       "10840       Everyone                  Lifestyle     July 25, 2018   \n",
       "\n",
       "              Current Ver         Android Ver  \n",
       "0                   1.0.0        4.0.3 and up  \n",
       "1                   2.0.0        4.0.3 and up  \n",
       "2                   1.2.4        4.0.3 and up  \n",
       "3      Varies with device          4.2 and up  \n",
       "4                     1.1          4.4 and up  \n",
       "...                   ...                 ...  \n",
       "10836                1.48          4.1 and up  \n",
       "10837                 1.0          4.1 and up  \n",
       "10838                 1.0          2.2 and up  \n",
       "10839  Varies with device  Varies with device  \n",
       "10840  Varies with device  Varies with device  \n",
       "\n",
       "[10841 rows x 13 columns]"
      ]
     },
     "execution_count": 13,
     "metadata": {},
     "output_type": "execute_result"
    }
   ],
   "source": [
    "#remove all duplicate rows corresponding to app column\n",
    "gps.drop_duplicates(subset=['App'], keep=False)\n",
    "gps"
   ]
  },
  {
   "cell_type": "code",
   "execution_count": 14,
   "metadata": {},
   "outputs": [],
   "source": [
    "#delete unnecesaary rows creating issues in modelling\n",
    "gps = gps.drop([10472])"
   ]
  },
  {
   "cell_type": "code",
   "execution_count": 15,
   "metadata": {},
   "outputs": [],
   "source": [
    "#conversion of size column to a convinient format\n",
    "gps[\"Size\"] = gps[\"Size\"].apply(lambda x: str(x).replace(\",\", \"\") if \",\" in str(x) else x)\n",
    "gps[\"Size\"] = gps[\"Size\"].apply(lambda x: str(x).replace('M', '') if 'M' in str(x) else x)\n",
    "gps[\"Size\"] = gps[\"Size\"].apply(lambda x: str(x).replace(\"Varies with device\", \"NAN\") if \"Varies with device\" in str(x) else x)\n",
    "gps[\"Size\"] = gps[\"Size\"].apply(lambda x: float(str(x).replace('k', '')) / 1024 if 'k' in str(x) else x)\n",
    "gps[\"Size\"] = gps[\"Size\"].apply(lambda x:x.replace(\"+\",\"\")if \"+\" in str(x) else x)"
   ]
  },
  {
   "cell_type": "code",
   "execution_count": 16,
   "metadata": {},
   "outputs": [],
   "source": [
    "#convert size to float and replace 'NAN' in size column with mean of the column\n",
    "gps[\"Size\"] = gps[\"Size\"].apply(lambda x:float(x))\n",
    "gps[\"Size\"].fillna((gps[\"Size\"].mean()), inplace=True)"
   ]
  },
  {
   "cell_type": "code",
   "execution_count": 17,
   "metadata": {},
   "outputs": [],
   "source": [
    "#Install column with '+', ',' signs are removed to help easy computation\n",
    "gps[\"Installs\"] = gps[\"Installs\"].apply(lambda x:x.replace(\"+\",\"\")if \"+\" in str(x) else x)\n",
    "gps[\"Installs\"] = gps[\"Installs\"].apply(lambda x: x.replace(\",\",\"\") if \",\" in str(x) else x)\n",
    "gps[\"Installs\"] = gps[\"Installs\"].apply(lambda x:float(x))"
   ]
  },
  {
   "cell_type": "code",
   "execution_count": 18,
   "metadata": {},
   "outputs": [],
   "source": [
    "#Converting Type column to 1 (for paid) and 0 (for free) apps\n",
    "def type_cat(types):\n",
    "    if types == 'Free':\n",
    "        return 0\n",
    "    else:\n",
    "        return 1\n",
    "gps['Type'] = gps['Type'].map(type_cat)\n",
    "    \n",
    "gps[\"Reviews\"] = gps[\"Reviews\"].astype(\"int64\")"
   ]
  },
  {
   "cell_type": "code",
   "execution_count": 19,
   "metadata": {},
   "outputs": [
    {
     "data": {
      "text/plain": [
       "dtype('float64')"
      ]
     },
     "execution_count": 19,
     "metadata": {},
     "output_type": "execute_result"
    }
   ],
   "source": [
    "#Make the price column consistent by removing the '$' symbol and replacing \"Free\" with 0\n",
    "gps[\"Price\"] = gps[\"Price\"].apply(lambda x: x.replace(\"Free\",0) if \"Free\" in str(x) else x)\n",
    "gps[\"Price\"] = gps[\"Price\"].apply(lambda x:x.replace(\"$\",\"\") if \"$\" in str(x)else x)\n",
    "gps[\"Price\"] = gps[\"Price\"].apply(lambda x: float(x))\n",
    "gps[\"Price\"].dtype"
   ]
  },
  {
   "cell_type": "code",
   "execution_count": 20,
   "metadata": {},
   "outputs": [],
   "source": [
    "gps['Category_C'] = gps['Category']"
   ]
  },
  {
   "cell_type": "code",
   "execution_count": 21,
   "metadata": {},
   "outputs": [],
   "source": [
    "#PREPROCESSING DATASET"
   ]
  },
  {
   "cell_type": "code",
   "execution_count": 22,
   "metadata": {},
   "outputs": [
    {
     "data": {
      "text/plain": [
       "App                object\n",
       "Category            int32\n",
       "Rating            float64\n",
       "Reviews             int64\n",
       "Size              float64\n",
       "Installs          float64\n",
       "Type                int64\n",
       "Price             float64\n",
       "Content Rating      int32\n",
       "Genres              int32\n",
       "Last Updated       object\n",
       "Current Ver        object\n",
       "Android Ver        object\n",
       "Category_C         object\n",
       "dtype: object"
      ]
     },
     "execution_count": 22,
     "metadata": {},
     "output_type": "execute_result"
    }
   ],
   "source": [
    "\n",
    "gps_copy = gps.copy()\n",
    "label_encoder = preprocessing.LabelEncoder() \n",
    "  \n",
    "# Encode labels in columns and converting the type\n",
    "gps_copy['Category'] = label_encoder.fit_transform(gps_copy['Category']) \n",
    "gps_copy['Content Rating'] = label_encoder.fit_transform(gps_copy['Content Rating']) \n",
    "gps_copy['Genres'] = label_encoder.fit_transform(gps_copy['Genres']) \n",
    "gps_copy.dtypes"
   ]
  },
  {
   "cell_type": "code",
   "execution_count": 23,
   "metadata": {},
   "outputs": [
    {
     "data": {
      "image/png": "[encoded data removed]",
      "text/plain": [
       "<Figure size 1440x720 with 1 Axes>"
      ]
     },
     "metadata": {},
     "output_type": "display_data"
    }
   ],
   "source": [
    "\n",
    "sns.set(rc={'figure.figsize':(20,10)}, font_scale=1.3, style='whitegrid')\n",
    "ax = sns.boxplot(x=\"Category\",y=\"Rating\",data=gps)\n",
    "labels = ax.set_xticklabels(ax.get_xticklabels(), rotation=45,ha='right')"
   ]
  },
  {
   "cell_type": "code",
   "execution_count": 24,
   "metadata": {},
   "outputs": [],
   "source": [
    "\n",
    "gps_copy = gps_copy.drop([\"App\",\"Last Updated\",\"Current Ver\",\"Android Ver\"],axis=1)"
   ]
  },
  {
   "cell_type": "code",
   "execution_count": 25,
   "metadata": {},
   "outputs": [],
   "source": [
    "gps_copy.to_csv(\"result_play_store.csv\", encoding='utf-8', index=False)"
   ]
  },
  {
   "cell_type": "code",
   "execution_count": 26,
   "metadata": {},
   "outputs": [
    {
     "name": "stdout",
     "output_type": "stream",
     "text": [
      "There are 10840 total rows.\n",
      "4950 have High Install popularity !\n",
      "5890 have Low Install popularity !\n",
      "\n"
     ]
    }
   ],
   "source": [
    "print(\"There are {} total rows.\".format(gps_copy.shape[0]))\n",
    "count_popular = gps_copy[gps_copy[\"Installs\"] > 100000].count()\n",
    "\n",
    "print(\"{} have High Install popularity !\".format(count_popular[0]))\n",
    "print(\"{} have Low Install popularity !\\n\".format((gps_copy.shape[0]-count_popular)[0]))\n",
    "\n"
   ]
  },
  {
   "cell_type": "code",
   "execution_count": 27,
   "metadata": {},
   "outputs": [],
   "source": [
    "#print(\"For an 80-20 training/test split, we need about {} apps for testing\\n\".format(gps_copy.shape[0]*.20))\n",
    "\n",
    "gps_copy[\"Installs\"] = (gps_copy[\"Installs\"] > 100000)*1 #Installs Binarized\n",
    "\n",
    "#print(\"Cut {} apps off Popular ones for a total of 3558 Popular training apps.\".format(int(4568*.22132)))\n",
    "#print(\"Cut {} apps off Unpopular ones for a total of 3558 Unpopular training apps.\\n\".format(int(4324*.17738)))"
   ]
  },
  {
   "cell_type": "code",
   "execution_count": 28,
   "metadata": {},
   "outputs": [],
   "source": [
    "testing_popular1 = gps_copy[gps_copy[\"Installs\"] == 1].sample(1010,random_state=0)\n",
    "gps_copy = gps_copy.drop(testing_popular1.index)\n",
    "#print(\"Values were not dropped from training dataframe.\",testing_popular1.index[0] in google_apps_copy.index)\n",
    "\n",
    "testing_popular0 = gps_copy[gps_copy[\"Installs\"] == 0].sample(766,random_state=0)\n",
    "gps_copy = gps_copy.drop(testing_popular0.index)\n",
    "#print(\"Values were not dropped from training dataframe.\",testing_popular0.index[0] in google_apps_copy.index)"
   ]
  },
  {
   "cell_type": "code",
   "execution_count": 29,
   "metadata": {},
   "outputs": [],
   "source": [
    "train_gps = gps_copy\n",
    "test_gps = testing_popular1.append(testing_popular0)\n",
    "\n",
    "#Shuffle rows in test & training data set\n",
    "test_gps = test_gps.sample(frac=1, random_state=0).reset_index(drop=True)\n",
    "test_gps = test_gps.sample(frac=1, random_state=0).reset_index(drop=True)"
   ]
  },
  {
   "cell_type": "code",
   "execution_count": 30,
   "metadata": {},
   "outputs": [],
   "source": [
    "#Form training and test data split\n",
    "y_train = train_gps.pop(\"Installs\")\n",
    "X_train = train_gps.copy()\n",
    "y_test = test_gps.pop(\"Installs\")\n",
    "X_test = test_gps.copy()"
   ]
  },
  {
   "cell_type": "code",
   "execution_count": 31,
   "metadata": {},
   "outputs": [],
   "source": [
    "#ML MODELLING"
   ]
  },
  {
   "cell_type": "code",
   "execution_count": 32,
   "metadata": {},
   "outputs": [],
   "source": [
    "#Run with different ML model to check the accuracy\n",
    "X_train = X_train.drop(['Category_C'], axis=1)\n",
    "X_test = X_test.drop(['Category_C'], axis=1)"
   ]
  },
  {
   "cell_type": "code",
   "execution_count": 33,
   "metadata": {},
   "outputs": [
    {
     "name": "stdout",
     "output_type": "stream",
     "text": [
      "9064 apps are used for Training.\n",
      "1776 apps are used for Testing.\n"
     ]
    },
    {
     "data": {
      "text/html": [
       "<div>\n",
       "<style scoped>\n",
       "    .dataframe tbody tr th:only-of-type {\n",
       "        vertical-align: middle;\n",
       "    }\n",
       "\n",
       "    .dataframe tbody tr th {\n",
       "        vertical-align: top;\n",
       "    }\n",
       "\n",
       "    .dataframe thead th {\n",
       "        text-align: right;\n",
       "    }\n",
       "</style>\n",
       "<table border=\"1\" class=\"dataframe\">\n",
       "  <thead>\n",
       "    <tr style=\"text-align: right;\">\n",
       "      <th></th>\n",
       "      <th>Category</th>\n",
       "      <th>Rating</th>\n",
       "      <th>Reviews</th>\n",
       "      <th>Size</th>\n",
       "      <th>Type</th>\n",
       "      <th>Price</th>\n",
       "      <th>Content Rating</th>\n",
       "      <th>Genres</th>\n",
       "    </tr>\n",
       "  </thead>\n",
       "  <tbody>\n",
       "    <tr>\n",
       "      <th>0</th>\n",
       "      <td>4</td>\n",
       "      <td>4.193338</td>\n",
       "      <td>0</td>\n",
       "      <td>5.000000</td>\n",
       "      <td>0</td>\n",
       "      <td>0.0</td>\n",
       "      <td>1</td>\n",
       "      <td>22</td>\n",
       "    </tr>\n",
       "    <tr>\n",
       "      <th>1</th>\n",
       "      <td>11</td>\n",
       "      <td>4.300000</td>\n",
       "      <td>169609</td>\n",
       "      <td>34.000000</td>\n",
       "      <td>0</td>\n",
       "      <td>0.0</td>\n",
       "      <td>1</td>\n",
       "      <td>7</td>\n",
       "    </tr>\n",
       "    <tr>\n",
       "      <th>2</th>\n",
       "      <td>11</td>\n",
       "      <td>4.700000</td>\n",
       "      <td>198480</td>\n",
       "      <td>82.000000</td>\n",
       "      <td>0</td>\n",
       "      <td>0.0</td>\n",
       "      <td>1</td>\n",
       "      <td>97</td>\n",
       "    </tr>\n",
       "    <tr>\n",
       "      <th>3</th>\n",
       "      <td>9</td>\n",
       "      <td>4.200000</td>\n",
       "      <td>98509</td>\n",
       "      <td>21.516165</td>\n",
       "      <td>0</td>\n",
       "      <td>0.0</td>\n",
       "      <td>1</td>\n",
       "      <td>52</td>\n",
       "    </tr>\n",
       "    <tr>\n",
       "      <th>4</th>\n",
       "      <td>23</td>\n",
       "      <td>4.600000</td>\n",
       "      <td>7583</td>\n",
       "      <td>3.800000</td>\n",
       "      <td>0</td>\n",
       "      <td>0.0</td>\n",
       "      <td>2</td>\n",
       "      <td>80</td>\n",
       "    </tr>\n",
       "  </tbody>\n",
       "</table>\n",
       "</div>"
      ],
      "text/plain": [
       "   Category    Rating  Reviews       Size  Type  Price  Content Rating  Genres\n",
       "0         4  4.193338        0   5.000000     0    0.0               1      22\n",
       "1        11  4.300000   169609  34.000000     0    0.0               1       7\n",
       "2        11  4.700000   198480  82.000000     0    0.0               1      97\n",
       "3         9  4.200000    98509  21.516165     0    0.0               1      52\n",
       "4        23  4.600000     7583   3.800000     0    0.0               2      80"
      ]
     },
     "execution_count": 33,
     "metadata": {},
     "output_type": "execute_result"
    }
   ],
   "source": [
    "print(\"{} apps are used for Training.\".format(y_train.count()))\n",
    "print(\"{} apps are used for Testing.\".format(y_test.count()))\n",
    "X_test.head()"
   ]
  },
  {
   "cell_type": "code",
   "execution_count": 34,
   "metadata": {},
   "outputs": [],
   "source": [
    "#DECISION TREE"
   ]
  },
  {
   "cell_type": "code",
   "execution_count": 35,
   "metadata": {},
   "outputs": [
    {
     "name": "stdout",
     "output_type": "stream",
     "text": [
      "Predicted:  [0 1 1 1 0 0 0 1 1 0 0 1 0 1 1 0 1 1 1 0 0 0 1 0 0 1 0 0 1 0]\n",
      "Actual:     [0 1 1 1 1 0 0 1 1 0 0 1 0 1 1 0 1 1 1 0 0 0 1 0 0 1 0 0 1 0]\n"
     ]
    }
   ],
   "source": [
    "classify_DT = DecisionTreeClassifier(max_leaf_nodes = 29, random_state = 0) #max_leaf_nodes signifies no. of nodes\n",
    "classify_DT.fit(X_train, y_train)\n",
    "predict_popular_DT = classify_DT.predict(X_test)\n",
    "print(\"Predicted: \",predict_popular_DT[:30])\n",
    "print(\"Actual:    \",np.array(y_test[:30]))"
   ]
  },
  {
   "cell_type": "code",
   "execution_count": 36,
   "metadata": {},
   "outputs": [],
   "source": [
    "#RANDOM FOREST"
   ]
  },
  {
   "cell_type": "code",
   "execution_count": 37,
   "metadata": {},
   "outputs": [
    {
     "name": "stdout",
     "output_type": "stream",
     "text": [
      "Predicted:  [0 1 1 1 0 0 0 1 1 0 0 1 0 1 1 0 0 0 1 0 0 0 1 0 0 1 0 0 0 0]\n",
      "Actual:     [0 1 1 1 1 0 0 1 1 0 0 1 0 1 1 0 1 1 1 0 0 0 1 0 0 1 0 0 1 0]\n"
     ]
    }
   ],
   "source": [
    "classify_RF = RandomForestRegressor(n_estimators = 100 , random_state = 0)   #n_estimators is no of trees in forest\n",
    "classify_RF.fit(X_train , y_train)\n",
    "predict_popular_RF = classify_RF.predict(X_test)\n",
    "print(\"Predicted: \",predict_popular_RF[:30].astype(\"int64\"))\n",
    "print(\"Actual:    \",np.array(y_test[:30]))"
   ]
  },
  {
   "cell_type": "code",
   "execution_count": 38,
   "metadata": {},
   "outputs": [],
   "source": [
    "#LINEAR REGRESSION"
   ]
  },
  {
   "cell_type": "code",
   "execution_count": 39,
   "metadata": {},
   "outputs": [
    {
     "name": "stdout",
     "output_type": "stream",
     "text": [
      "Predicted:  [0 0 0 0 0 0 0 0 0 0 0 0 0 0 0 0 0 0 0 0 0 0 0 0 0 0 0 0 0 0]\n",
      "Actual:     [0 1 1 1 1 0 0 1 1 0 0 1 0 1 1 0 1 1 1 0 0 0 1 0 0 1 0 0 1 0]\n"
     ]
    }
   ],
   "source": [
    "classify_LR1 = LinearRegression()\n",
    "classify_LR1.fit(X_train , y_train)\n",
    "predict_popular_LR1 = classify_LR1.predict(X_test)\n",
    "print(\"Predicted: \",predict_popular_LR1[:30].astype(\"int64\"))\n",
    "print(\"Actual:    \",np.array(y_test[:30]))"
   ]
  },
  {
   "cell_type": "code",
   "execution_count": 40,
   "metadata": {},
   "outputs": [],
   "source": [
    "#ACCURACY SCORE OF DECISION TREE"
   ]
  },
  {
   "cell_type": "code",
   "execution_count": 41,
   "metadata": {},
   "outputs": [
    {
     "name": "stdout",
     "output_type": "stream",
     "text": [
      "Accuracy of Decision Tree :  44.42567567567568\n",
      "Mean Squared Error: 0.21189307922210537\n",
      "Mean absolute Error: 0.4239598631019432\n",
      "R square value :  0.13612172653560517\n"
     ]
    }
   ],
   "source": [
    "acc_LR1 = accuracy_score(y_true = y_test, y_pred = predict_popular_LR1.astype(\"int64\"))\n",
    "print(\"Accuracy of Decision Tree : \", (acc_LR1*100))\n",
    "\n",
    "def Evaluationmatrix_LR1(y_test, y_pred):\n",
    "    print ('Mean Squared Error: '+ str(metrics.mean_squared_error(y_test,y_pred)))\n",
    "    print ('Mean absolute Error: '+ str(metrics.mean_absolute_error(y_test,y_pred)))\n",
    "\n",
    "Evaluationmatrix_LR1(y_test,predict_popular_LR1)\n",
    "\n",
    "print('R square value : ',r2_score(y_test, predict_popular_LR1))"
   ]
  },
  {
   "cell_type": "code",
   "execution_count": 42,
   "metadata": {},
   "outputs": [],
   "source": [
    "#LOGISTIC REGRESSION"
   ]
  },
  {
   "cell_type": "code",
   "execution_count": 43,
   "metadata": {},
   "outputs": [
    {
     "name": "stdout",
     "output_type": "stream",
     "text": [
      "Predicted:  [0 1 1 1 1 0 0 1 1 0 0 1 0 1 1 0 1 1 1 0 0 0 1 0 0 1 0 0 1 0]\n",
      "Actual:     [0 1 1 1 1 0 0 1 1 0 0 1 0 1 1 0 1 1 1 0 0 0 1 0 0 1 0 0 1 0]\n"
     ]
    },
    {
     "name": "stderr",
     "output_type": "stream",
     "text": [
      "C:\\Users\\visha\\anaconda3\\lib\\site-packages\\sklearn\\linear_model\\_logistic.py:762: ConvergenceWarning: lbfgs failed to converge (status=1):\n",
      "STOP: TOTAL NO. of ITERATIONS REACHED LIMIT.\n",
      "\n",
      "Increase the number of iterations (max_iter) or scale the data as shown in:\n",
      "    https://scikit-learn.org/stable/modules/preprocessing.html\n",
      "Please also refer to the documentation for alternative solver options:\n",
      "    https://scikit-learn.org/stable/modules/linear_model.html#logistic-regression\n",
      "  n_iter_i = _check_optimize_result(\n"
     ]
    }
   ],
   "source": [
    "classify_LR = LogisticRegression(C=1e5, solver='lbfgs', multi_class='multinomial')\n",
    "classify_LR.fit(X_train , y_train)\n",
    "predict_popular_LR = classify_LR.predict(X_test)\n",
    "print(\"Predicted: \",predict_popular_LR[:30].astype(\"int64\"))\n",
    "print(\"Actual:    \",np.array(y_test[:30]))"
   ]
  },
  {
   "cell_type": "code",
   "execution_count": 44,
   "metadata": {},
   "outputs": [],
   "source": [
    "#NAIVE BAYES"
   ]
  },
  {
   "cell_type": "code",
   "execution_count": 45,
   "metadata": {},
   "outputs": [
    {
     "name": "stdout",
     "output_type": "stream",
     "text": [
      "Predicted:  [0 1 1 1 0 0 0 1 1 0 0 1 0 1 1 0 0 0 1 0 0 0 1 1 0 1 0 0 1 0]\n",
      "Actual:     [0 1 1 1 1 0 0 1 1 0 0 1 0 1 1 0 1 1 1 0 0 0 1 0 0 1 0 0 1 0]\n"
     ]
    }
   ],
   "source": [
    "classify_NB = GaussianNB()\n",
    "classify_NB.fit(X_train, y_train)\n",
    "predict_popular_NB = classify_NB.predict(X_test)\n",
    "print(\"Predicted: \",predict_popular_NB[:30].astype(\"int64\"))\n",
    "print(\"Actual:    \",np.array(y_test[:30]))"
   ]
  },
  {
   "cell_type": "code",
   "execution_count": 46,
   "metadata": {},
   "outputs": [],
   "source": [
    "#K NEAREST NEIGHBORS"
   ]
  },
  {
   "cell_type": "code",
   "execution_count": 47,
   "metadata": {},
   "outputs": [
    {
     "name": "stdout",
     "output_type": "stream",
     "text": [
      "Predicted:  [0 1 1 1 1 0 0 1 1 1 0 1 0 1 1 0 1 1 1 0 0 0 1 1 0 1 0 0 1 0]\n",
      "Actual:     [0 1 1 1 1 0 0 1 1 0 0 1 0 1 1 0 1 1 1 0 0 0 1 0 0 1 0 0 1 0]\n"
     ]
    }
   ],
   "source": [
    "classify_KNN = KNeighborsClassifier(n_neighbors=15)\n",
    "classify_KNN.fit(X_train, y_train)\n",
    "predict_popular_KNN = classify_KNN.predict(X_test)\n",
    "print(\"Predicted: \",predict_popular_KNN[:30].astype(\"int64\"))\n",
    "print(\"Actual:    \",np.array(y_test[:30]))"
   ]
  },
  {
   "cell_type": "code",
   "execution_count": 48,
   "metadata": {},
   "outputs": [],
   "source": [
    "#Artificial Neural Network"
   ]
  },
  {
   "cell_type": "code",
   "execution_count": 49,
   "metadata": {},
   "outputs": [
    {
     "name": "stdout",
     "output_type": "stream",
     "text": [
      "Predicted:  [0 1 1 1 1 0 0 1 1 0 0 1 0 1 1 0 1 1 1 0 0 0 1 0 0 1 0 0 1 0]\n",
      "Actual:     [0 1 1 1 1 0 0 1 1 0 0 1 0 1 1 0 1 1 1 0 0 0 1 0 0 1 0 0 1 0]\n"
     ]
    },
    {
     "name": "stderr",
     "output_type": "stream",
     "text": [
      "C:\\Users\\visha\\anaconda3\\lib\\site-packages\\sklearn\\neural_network\\_multilayer_perceptron.py:471: ConvergenceWarning: lbfgs failed to converge (status=1):\n",
      "STOP: TOTAL NO. of ITERATIONS REACHED LIMIT.\n",
      "\n",
      "Increase the number of iterations (max_iter) or scale the data as shown in:\n",
      "    https://scikit-learn.org/stable/modules/preprocessing.html\n",
      "  self.n_iter_ = _check_optimize_result(\"lbfgs\", opt_res, self.max_iter)\n"
     ]
    }
   ],
   "source": [
    "#Artificial Neural Network\n",
    "\n",
    "classify_ANN = MLPClassifier(solver='lbfgs', alpha=0.5, hidden_layer_sizes=(5, 3), random_state=0)\n",
    "classify_ANN.fit(X_train, y_train)\n",
    "predict_popular_ANN = classify_ANN.predict(X_test)\n",
    "print(\"Predicted: \",predict_popular_ANN[:30].astype(\"int64\"))\n",
    "print(\"Actual:    \",np.array(y_test[:30]))"
   ]
  },
  {
   "cell_type": "code",
   "execution_count": 50,
   "metadata": {},
   "outputs": [],
   "source": [
    "#SVM regressor"
   ]
  },
  {
   "cell_type": "code",
   "execution_count": 51,
   "metadata": {},
   "outputs": [
    {
     "name": "stdout",
     "output_type": "stream",
     "text": [
      "Predicted:  [0 0 0 0 0 0 0 0 0 0 0 0 0 0 0 0 0 0 0 0 0 0 0 0 0 0 0 0 0 0]\n",
      "Actual:     [0 1 1 1 1 0 0 1 1 0 0 1 0 1 1 0 1 1 1 0 0 0 1 0 0 1 0 0 1 0]\n"
     ]
    }
   ],
   "source": [
    "from sklearn import svm\n",
    "from sklearn.preprocessing import StandardScaler\n",
    "classify_SVR = svm.SVR()\n",
    "classify_SVR.fit(X_train, y_train)\n",
    "predict_popular_SVR = classify_SVR.predict(X_test)\n",
    "predict_popular_SVR = classify_SVR.predict(X_test)\n",
    "print(\"Predicted: \",predict_popular_SVR[:30].astype(\"int64\"))\n",
    "print(\"Actual:    \",np.array(y_test[:30]))"
   ]
  },
  {
   "cell_type": "code",
   "execution_count": 52,
   "metadata": {},
   "outputs": [],
   "source": [
    "#ACCURACY SCORE OF DECISION TREE"
   ]
  },
  {
   "cell_type": "code",
   "execution_count": 53,
   "metadata": {},
   "outputs": [
    {
     "name": "stdout",
     "output_type": "stream",
     "text": [
      "Accuracy of Decision Tree : 95 %\n"
     ]
    }
   ],
   "source": [
    "acc_DT = accuracy_score(y_true = y_test, y_pred = predict_popular_DT)\n",
    "print(\"Accuracy of Decision Tree :\", (acc_DT*100).astype(\"int64\"),\"%\")"
   ]
  },
  {
   "cell_type": "code",
   "execution_count": 54,
   "metadata": {},
   "outputs": [],
   "source": [
    "#ACCURACY SCORE OF RANDOM FOREST"
   ]
  },
  {
   "cell_type": "code",
   "execution_count": 55,
   "metadata": {},
   "outputs": [
    {
     "name": "stdout",
     "output_type": "stream",
     "text": [
      "Accuracy of Random Forest :  88 %\n"
     ]
    }
   ],
   "source": [
    "\n",
    "acc_RF = accuracy_score(y_true = y_test, y_pred = predict_popular_RF.astype(\"int64\"))\n",
    "print(\"Accuracy of Random Forest : \", (acc_RF*100).astype(\"int64\"),\"%\")"
   ]
  },
  {
   "cell_type": "code",
   "execution_count": 56,
   "metadata": {},
   "outputs": [],
   "source": [
    "#ACCURACY SCORE OF LOGISTIC REGRESSION"
   ]
  },
  {
   "cell_type": "code",
   "execution_count": 57,
   "metadata": {},
   "outputs": [
    {
     "name": "stdout",
     "output_type": "stream",
     "text": [
      "Accuracy of Logistic Regression :  94 %\n"
     ]
    }
   ],
   "source": [
    "acc_LR = accuracy_score(y_true = y_test, y_pred = predict_popular_LR.astype(\"int64\"))\n",
    "print(\"Accuracy of Logistic Regression : \", (acc_LR*100).astype(\"int64\").astype(\"int64\"),\"%\")"
   ]
  },
  {
   "cell_type": "code",
   "execution_count": 58,
   "metadata": {},
   "outputs": [],
   "source": [
    "#ACCURACY SCORE OF LINEAR REGRESSION"
   ]
  },
  {
   "cell_type": "code",
   "execution_count": 59,
   "metadata": {},
   "outputs": [
    {
     "name": "stdout",
     "output_type": "stream",
     "text": [
      "Accuracy of Linear Regression :  44 %\n"
     ]
    }
   ],
   "source": [
    "acc_LR1 = accuracy_score(y_true = y_test, y_pred = predict_popular_LR1.astype(\"int64\"))\n",
    "print(\"Accuracy of Linear Regression : \", (acc_LR1*100).astype(\"int64\").astype(\"int64\"),\"%\")"
   ]
  },
  {
   "cell_type": "code",
   "execution_count": 60,
   "metadata": {},
   "outputs": [],
   "source": [
    "#ACCURACY SCORE OF NAIVE BAYES"
   ]
  },
  {
   "cell_type": "code",
   "execution_count": 61,
   "metadata": {},
   "outputs": [
    {
     "name": "stdout",
     "output_type": "stream",
     "text": [
      "Accuracy of Naive Bayes :  89 %\n"
     ]
    }
   ],
   "source": [
    "acc_NB = accuracy_score(y_true = y_test, y_pred = predict_popular_NB.astype(\"int64\"))\n",
    "print(\"Accuracy of Naive Bayes : \", (acc_NB*100).astype(\"int64\"),\"%\")"
   ]
  },
  {
   "cell_type": "code",
   "execution_count": 62,
   "metadata": {},
   "outputs": [],
   "source": [
    "#ACCURACY SCORE OF K NEAREST NEIGHBOR"
   ]
  },
  {
   "cell_type": "code",
   "execution_count": 63,
   "metadata": {},
   "outputs": [
    {
     "name": "stdout",
     "output_type": "stream",
     "text": [
      "Accuracy of K NEAREST NEIGHBOR :  94 %\n"
     ]
    }
   ],
   "source": [
    "acc_KNN = accuracy_score(y_true = y_test, y_pred = predict_popular_KNN.astype(\"int64\"))\n",
    "print(\"Accuracy of K NEAREST NEIGHBOR : \", (acc_KNN*100).astype(\"int64\"),\"%\")"
   ]
  },
  {
   "cell_type": "code",
   "execution_count": 64,
   "metadata": {},
   "outputs": [],
   "source": [
    "#ACCURACY SCORE OF AIRTIFIAL NEURAL NETWORK"
   ]
  },
  {
   "cell_type": "code",
   "execution_count": 65,
   "metadata": {},
   "outputs": [
    {
     "name": "stdout",
     "output_type": "stream",
     "text": [
      "Accuracy of K NEURAL NETWORKS :  94 %\n"
     ]
    }
   ],
   "source": [
    "acc_ANN = accuracy_score(y_true = y_test, y_pred = predict_popular_ANN.astype(\"int64\"))\n",
    "print(\"Accuracy of K NEURAL NETWORKS : \", (acc_ANN*100).astype(\"int64\"),\"%\")"
   ]
  },
  {
   "cell_type": "code",
   "execution_count": 66,
   "metadata": {},
   "outputs": [],
   "source": [
    "#ACCURACY SCORE OF SVR"
   ]
  },
  {
   "cell_type": "code",
   "execution_count": 67,
   "metadata": {},
   "outputs": [
    {
     "name": "stdout",
     "output_type": "stream",
     "text": [
      "Accuracy of SUPPORT VECTOR REGRESSOR :  52 %\n"
     ]
    }
   ],
   "source": [
    "acc_SVR = accuracy_score(y_true = y_test, y_pred = predict_popular_SVR.astype(\"int64\"))\n",
    "print(\"Accuracy of SUPPORT VECTOR REGRESSOR : \", (acc_SVR*100).astype(\"int64\"),\"%\")"
   ]
  },
  {
   "cell_type": "code",
   "execution_count": 68,
   "metadata": {},
   "outputs": [
    {
     "data": {
      "text/html": [
       "<div>\n",
       "<style scoped>\n",
       "    .dataframe tbody tr th:only-of-type {\n",
       "        vertical-align: middle;\n",
       "    }\n",
       "\n",
       "    .dataframe tbody tr th {\n",
       "        vertical-align: top;\n",
       "    }\n",
       "\n",
       "    .dataframe thead th {\n",
       "        text-align: right;\n",
       "    }\n",
       "</style>\n",
       "<table border=\"1\" class=\"dataframe\">\n",
       "  <thead>\n",
       "    <tr style=\"text-align: right;\">\n",
       "      <th></th>\n",
       "      <th>Category</th>\n",
       "      <th>Rating</th>\n",
       "      <th>Reviews</th>\n",
       "      <th>Size</th>\n",
       "      <th>Type</th>\n",
       "      <th>Price</th>\n",
       "      <th>Content Rating</th>\n",
       "      <th>Genres</th>\n",
       "      <th>Popular</th>\n",
       "    </tr>\n",
       "  </thead>\n",
       "  <tbody>\n",
       "  </tbody>\n",
       "</table>\n",
       "</div>"
      ],
      "text/plain": [
       "Empty DataFrame\n",
       "Columns: [Category, Rating, Reviews, Size, Type, Price, Content Rating, Genres, Popular]\n",
       "Index: []"
      ]
     },
     "execution_count": 68,
     "metadata": {},
     "output_type": "execute_result"
    }
   ],
   "source": [
    "X_testCopy = X_test.copy()\n",
    "X_testCopy[\"Popular\"] = y_test\n",
    "X_testCopy[X_test[\"Size\"] == 21.516165].head()\n",
    "#X_testCopy.to_csv(\"Test.csv\", encoding='utf-8', index=False)"
   ]
  },
  {
   "cell_type": "code",
   "execution_count": 69,
   "metadata": {},
   "outputs": [
    {
     "data": {
      "text/html": [
       "<div>\n",
       "<style scoped>\n",
       "    .dataframe tbody tr th:only-of-type {\n",
       "        vertical-align: middle;\n",
       "    }\n",
       "\n",
       "    .dataframe tbody tr th {\n",
       "        vertical-align: top;\n",
       "    }\n",
       "\n",
       "    .dataframe thead th {\n",
       "        text-align: right;\n",
       "    }\n",
       "</style>\n",
       "<table border=\"1\" class=\"dataframe\">\n",
       "  <thead>\n",
       "    <tr style=\"text-align: right;\">\n",
       "      <th></th>\n",
       "      <th>Category</th>\n",
       "      <th>Rating</th>\n",
       "      <th>Reviews</th>\n",
       "      <th>Size</th>\n",
       "      <th>Type</th>\n",
       "      <th>Price</th>\n",
       "      <th>Content Rating</th>\n",
       "      <th>Genres</th>\n",
       "      <th>Popular</th>\n",
       "    </tr>\n",
       "  </thead>\n",
       "  <tbody>\n",
       "    <tr>\n",
       "      <th>845</th>\n",
       "      <td>11</td>\n",
       "      <td>3.1</td>\n",
       "      <td>306</td>\n",
       "      <td>2.900000</td>\n",
       "      <td>0</td>\n",
       "      <td>0.0</td>\n",
       "      <td>1</td>\n",
       "      <td>97</td>\n",
       "      <td>0</td>\n",
       "    </tr>\n",
       "    <tr>\n",
       "      <th>1179</th>\n",
       "      <td>28</td>\n",
       "      <td>4.5</td>\n",
       "      <td>5675</td>\n",
       "      <td>49.000000</td>\n",
       "      <td>0</td>\n",
       "      <td>0.0</td>\n",
       "      <td>1</td>\n",
       "      <td>102</td>\n",
       "      <td>0</td>\n",
       "    </tr>\n",
       "    <tr>\n",
       "      <th>1156</th>\n",
       "      <td>15</td>\n",
       "      <td>4.4</td>\n",
       "      <td>229210</td>\n",
       "      <td>21.516165</td>\n",
       "      <td>0</td>\n",
       "      <td>0.0</td>\n",
       "      <td>1</td>\n",
       "      <td>62</td>\n",
       "      <td>1</td>\n",
       "    </tr>\n",
       "    <tr>\n",
       "      <th>90</th>\n",
       "      <td>11</td>\n",
       "      <td>4.3</td>\n",
       "      <td>6669</td>\n",
       "      <td>31.000000</td>\n",
       "      <td>0</td>\n",
       "      <td>0.0</td>\n",
       "      <td>1</td>\n",
       "      <td>97</td>\n",
       "      <td>1</td>\n",
       "    </tr>\n",
       "    <tr>\n",
       "      <th>573</th>\n",
       "      <td>27</td>\n",
       "      <td>4.1</td>\n",
       "      <td>5285</td>\n",
       "      <td>4.000000</td>\n",
       "      <td>0</td>\n",
       "      <td>0.0</td>\n",
       "      <td>1</td>\n",
       "      <td>101</td>\n",
       "      <td>1</td>\n",
       "    </tr>\n",
       "    <tr>\n",
       "      <th>313</th>\n",
       "      <td>28</td>\n",
       "      <td>4.4</td>\n",
       "      <td>133825</td>\n",
       "      <td>34.000000</td>\n",
       "      <td>0</td>\n",
       "      <td>0.0</td>\n",
       "      <td>2</td>\n",
       "      <td>102</td>\n",
       "      <td>1</td>\n",
       "    </tr>\n",
       "    <tr>\n",
       "      <th>730</th>\n",
       "      <td>25</td>\n",
       "      <td>4.4</td>\n",
       "      <td>691474</td>\n",
       "      <td>21.516165</td>\n",
       "      <td>0</td>\n",
       "      <td>0.0</td>\n",
       "      <td>1</td>\n",
       "      <td>82</td>\n",
       "      <td>1</td>\n",
       "    </tr>\n",
       "    <tr>\n",
       "      <th>377</th>\n",
       "      <td>11</td>\n",
       "      <td>3.9</td>\n",
       "      <td>5933</td>\n",
       "      <td>60.000000</td>\n",
       "      <td>0</td>\n",
       "      <td>0.0</td>\n",
       "      <td>1</td>\n",
       "      <td>46</td>\n",
       "      <td>1</td>\n",
       "    </tr>\n",
       "    <tr>\n",
       "      <th>1113</th>\n",
       "      <td>21</td>\n",
       "      <td>3.5</td>\n",
       "      <td>66</td>\n",
       "      <td>12.000000</td>\n",
       "      <td>0</td>\n",
       "      <td>0.0</td>\n",
       "      <td>1</td>\n",
       "      <td>75</td>\n",
       "      <td>0</td>\n",
       "    </tr>\n",
       "    <tr>\n",
       "      <th>949</th>\n",
       "      <td>29</td>\n",
       "      <td>4.2</td>\n",
       "      <td>24</td>\n",
       "      <td>5.000000</td>\n",
       "      <td>0</td>\n",
       "      <td>0.0</td>\n",
       "      <td>1</td>\n",
       "      <td>108</td>\n",
       "      <td>0</td>\n",
       "    </tr>\n",
       "  </tbody>\n",
       "</table>\n",
       "</div>"
      ],
      "text/plain": [
       "      Category  Rating  Reviews       Size  Type  Price  Content Rating  \\\n",
       "845         11     3.1      306   2.900000     0    0.0               1   \n",
       "1179        28     4.5     5675  49.000000     0    0.0               1   \n",
       "1156        15     4.4   229210  21.516165     0    0.0               1   \n",
       "90          11     4.3     6669  31.000000     0    0.0               1   \n",
       "573         27     4.1     5285   4.000000     0    0.0               1   \n",
       "313         28     4.4   133825  34.000000     0    0.0               2   \n",
       "730         25     4.4   691474  21.516165     0    0.0               1   \n",
       "377         11     3.9     5933  60.000000     0    0.0               1   \n",
       "1113        21     3.5       66  12.000000     0    0.0               1   \n",
       "949         29     4.2       24   5.000000     0    0.0               1   \n",
       "\n",
       "      Genres  Popular  \n",
       "845       97        0  \n",
       "1179     102        0  \n",
       "1156      62        1  \n",
       "90        97        1  \n",
       "573      101        1  \n",
       "313      102        1  \n",
       "730       82        1  \n",
       "377       46        1  \n",
       "1113      75        0  \n",
       "949      108        0  "
      ]
     },
     "execution_count": 69,
     "metadata": {},
     "output_type": "execute_result"
    }
   ],
   "source": [
    "X_testCopy.sort_values(by='Popular').sample(10)"
   ]
  },
  {
   "cell_type": "code",
   "execution_count": 70,
   "metadata": {},
   "outputs": [],
   "source": [
    "#CALCULATION OF ERROR"
   ]
  },
  {
   "cell_type": "code",
   "execution_count": 71,
   "metadata": {},
   "outputs": [],
   "source": [
    "#R square value of Decision Tree"
   ]
  },
  {
   "cell_type": "code",
   "execution_count": 72,
   "metadata": {},
   "outputs": [
    {
     "name": "stdout",
     "output_type": "stream",
     "text": [
      "Mean Squared Error: 0.04222972972972973\n",
      "Mean absolute Error: 0.04222972972972973\n",
      "R square value :  0.8278313471033787\n",
      "[[741  25]\n",
      " [ 50 960]]\n"
     ]
    },
    {
     "data": {
      "text/plain": [
       "<matplotlib.axes._subplots.AxesSubplot at 0x247ac4f99a0>"
      ]
     },
     "execution_count": 72,
     "metadata": {},
     "output_type": "execute_result"
    },
    {
     "data": {
      "image/png": "[encoded data removed]",
      "text/plain": [
       "<Figure size 576x432 with 1 Axes>"
      ]
     },
     "metadata": {},
     "output_type": "display_data"
    }
   ],
   "source": [
    "def Evaluationmatrix_DT(y_test, y_pred):\n",
    "    print ('Mean Squared Error: '+ str(metrics.mean_squared_error(y_test,y_pred)))\n",
    "    print ('Mean absolute Error: '+ str(metrics.mean_absolute_error(y_test,y_pred)))\n",
    "\n",
    "Evaluationmatrix_DT(y_test,predict_popular_DT)\n",
    "\n",
    "print('R square value : ',r2_score(y_test, predict_popular_DT))\n",
    "\n",
    "from sklearn.metrics import confusion_matrix\n",
    "cm = confusion_matrix(y_test, predict_popular_DT)\n",
    "print(cm)\n",
    "index = ['Predicted Success','Predicted Unsuccess']  \n",
    "columns = ['Actual Success','Actual Unsuccess']  \n",
    "cm_df = pd.DataFrame(cm, columns, index)\n",
    "plt.figure(figsize=(8,6))\n",
    "sns.heatmap(cm,annot=True,cmap=\"Oranges\",fmt=\"d\",cbar=False)\n"
   ]
  },
  {
   "cell_type": "code",
   "execution_count": 73,
   "metadata": {},
   "outputs": [],
   "source": [
    "#R square value of Random Forest"
   ]
  },
  {
   "cell_type": "code",
   "execution_count": 74,
   "metadata": {},
   "outputs": [
    {
     "name": "stdout",
     "output_type": "stream",
     "text": [
      "Mean Squared Error: 0.029820664414414416\n",
      "Mean absolute Error: 0.05823761261261261\n",
      "R square value :  0.8784225318615412\n",
      "[[766   0]\n",
      " [213 797]]\n"
     ]
    },
    {
     "data": {
      "text/plain": [
       "<matplotlib.axes._subplots.AxesSubplot at 0x247ac15cd00>"
      ]
     },
     "execution_count": 74,
     "metadata": {},
     "output_type": "execute_result"
    },
    {
     "data": {
      "image/png": "[encoded data removed]",
      "text/plain": [
       "<Figure size 576x432 with 1 Axes>"
      ]
     },
     "metadata": {},
     "output_type": "display_data"
    }
   ],
   "source": [
    "\n",
    "def Evaluationmatrix_RF(y_test, y_pred):\n",
    "    print ('Mean Squared Error: '+ str(metrics.mean_squared_error(y_test,y_pred)))\n",
    "    print ('Mean absolute Error: '+ str(metrics.mean_absolute_error(y_test,y_pred)))\n",
    "\n",
    "Evaluationmatrix_RF(y_test,predict_popular_RF)\n",
    "\n",
    "print('R square value : ',r2_score(y_test, predict_popular_RF))\n",
    "\n",
    "from sklearn.metrics import confusion_matrix\n",
    "cm = confusion_matrix(y_test, predict_popular_RF.astype(\"int64\"))\n",
    "print(cm)\n",
    "index = ['Predicted Success','Predicted Unsuccess']  \n",
    "columns = ['Actual Success','Actual Unsuccess']  \n",
    "cm_df = pd.DataFrame(cm, columns, index)\n",
    "plt.figure(figsize=(8,6))\n",
    "sns.heatmap(cm,annot=True,cmap=\"Blues\",fmt=\"d\",cbar=False)"
   ]
  },
  {
   "cell_type": "code",
   "execution_count": 75,
   "metadata": {},
   "outputs": [],
   "source": [
    "#R square value of Linear Regression"
   ]
  },
  {
   "cell_type": "code",
   "execution_count": 76,
   "metadata": {},
   "outputs": [
    {
     "name": "stdout",
     "output_type": "stream",
     "text": [
      "Mean Squared Error: 0.051238738738738736\n",
      "Mean absolute Error: 0.051238738738738736\n",
      "R square value :  0.7911020344854328\n",
      "[[755  11]\n",
      " [ 80 930]]\n"
     ]
    },
    {
     "data": {
      "text/plain": [
       "<matplotlib.axes._subplots.AxesSubplot at 0x247bc455400>"
      ]
     },
     "execution_count": 76,
     "metadata": {},
     "output_type": "execute_result"
    },
    {
     "data": {
      "image/png": "[encoded data removed]",
      "text/plain": [
       "<Figure size 576x432 with 1 Axes>"
      ]
     },
     "metadata": {},
     "output_type": "display_data"
    }
   ],
   "source": [
    "def Evaluationmatrix_LR(y_test, y_pred):\n",
    "    print ('Mean Squared Error: '+ str(metrics.mean_squared_error(y_test,y_pred)))\n",
    "    print ('Mean absolute Error: '+ str(metrics.mean_absolute_error(y_test,y_pred)))\n",
    "\n",
    "Evaluationmatrix_LR(y_test,predict_popular_LR)\n",
    "\n",
    "print('R square value : ',r2_score(y_test, predict_popular_LR))\n",
    "\n",
    "from sklearn.metrics import confusion_matrix\n",
    "cm = confusion_matrix(y_test, predict_popular_LR.astype(\"int64\"))\n",
    "print(cm)\n",
    "index = ['Predicted Success','Predicted Unsuccess']  \n",
    "columns = ['Actual Success','Actual Unsuccess']  \n",
    "cm_df = pd.DataFrame(cm, columns, index)\n",
    "plt.figure(figsize=(8,6))\n",
    "sns.heatmap(cm,annot=True,cmap=\"RdPu\",fmt=\"d\",cbar=False)"
   ]
  },
  {
   "cell_type": "code",
   "execution_count": 77,
   "metadata": {},
   "outputs": [],
   "source": [
    "#R square value of Naive Bayes"
   ]
  },
  {
   "cell_type": "code",
   "execution_count": 78,
   "metadata": {},
   "outputs": [
    {
     "name": "stdout",
     "output_type": "stream",
     "text": [
      "Mean Squared Error: 0.10247747747747747\n",
      "Mean absolute Error: 0.10247747747747747\n",
      "R square value :  0.5822040689708656\n",
      "[[755  11]\n",
      " [171 839]]\n"
     ]
    },
    {
     "data": {
      "text/plain": [
       "<matplotlib.axes._subplots.AxesSubplot at 0x247bc492610>"
      ]
     },
     "execution_count": 78,
     "metadata": {},
     "output_type": "execute_result"
    },
    {
     "data": {
      "image/png": "[encoded data removed]",
      "text/plain": [
       "<Figure size 576x432 with 1 Axes>"
      ]
     },
     "metadata": {},
     "output_type": "display_data"
    }
   ],
   "source": [
    "def Evaluationmatrix_NB(y_test, y_pred):\n",
    "    print ('Mean Squared Error: '+ str(metrics.mean_squared_error(y_test,y_pred)))\n",
    "    print ('Mean absolute Error: '+ str(metrics.mean_absolute_error(y_test,y_pred)))\n",
    "\n",
    "Evaluationmatrix_NB(y_test,predict_popular_NB)\n",
    "\n",
    "print('R square value : ',r2_score(y_test, predict_popular_NB))\n",
    "\n",
    "from sklearn.metrics import confusion_matrix\n",
    "cm = confusion_matrix(y_test, predict_popular_NB.astype(\"int64\"))\n",
    "print(cm)\n",
    "index = ['Predicted Success','Predicted Unsuccess']  \n",
    "columns = ['Actual Success','Actual Unsuccess']  \n",
    "cm_df = pd.DataFrame(cm, columns, index)\n",
    "plt.figure(figsize=(8,6))\n",
    "sns.heatmap(cm,annot=True,cmap=\"Purples\",fmt=\"d\",cbar=False)"
   ]
  },
  {
   "cell_type": "code",
   "execution_count": 79,
   "metadata": {},
   "outputs": [],
   "source": [
    "#R square value of K Nearest Neighbor"
   ]
  },
  {
   "cell_type": "code",
   "execution_count": 80,
   "metadata": {},
   "outputs": [
    {
     "name": "stdout",
     "output_type": "stream",
     "text": [
      "Mean Squared Error: 0.05686936936936937\n",
      "Mean absolute Error: 0.05686936936936937\n",
      "R square value :  0.7681462140992166\n",
      "[[726  40]\n",
      " [ 61 949]]\n"
     ]
    },
    {
     "data": {
      "text/plain": [
       "<matplotlib.axes._subplots.AxesSubplot at 0x247ac116c10>"
      ]
     },
     "execution_count": 80,
     "metadata": {},
     "output_type": "execute_result"
    },
    {
     "data": {
      "image/png": "[encoded data removed]",
      "text/plain": [
       "<Figure size 576x432 with 1 Axes>"
      ]
     },
     "metadata": {},
     "output_type": "display_data"
    }
   ],
   "source": [
    "def Evaluationmatrix_KNN(y_test, y_pred):\n",
    "    print ('Mean Squared Error: '+ str(metrics.mean_squared_error(y_test,y_pred)))\n",
    "    print ('Mean absolute Error: '+ str(metrics.mean_absolute_error(y_test,y_pred)))\n",
    "\n",
    "Evaluationmatrix_KNN(y_test,predict_popular_KNN)\n",
    "\n",
    "print('R square value : ',r2_score(y_test, predict_popular_KNN))\n",
    "\n",
    "from sklearn.metrics import confusion_matrix\n",
    "cm = confusion_matrix(y_test, predict_popular_KNN.astype(\"int64\"))\n",
    "print(cm)\n",
    "index = ['Predicted Success','Predicted Unsuccess']  \n",
    "columns = ['Actual Success','Actual Unsuccess']  \n",
    "cm_df = pd.DataFrame(cm, columns, index)\n",
    "plt.figure(figsize=(8,6))\n",
    "sns.heatmap(cm,annot=True,cmap=\"Greens\",fmt=\"d\",cbar=False)"
   ]
  },
  {
   "cell_type": "code",
   "execution_count": 81,
   "metadata": {},
   "outputs": [],
   "source": [
    "#R square value of AIRTIFICIAL NEURAL NETWORKS"
   ]
  },
  {
   "cell_type": "code",
   "execution_count": 82,
   "metadata": {},
   "outputs": [
    {
     "name": "stdout",
     "output_type": "stream",
     "text": [
      "Mean Squared Error: 0.05067567567567568\n",
      "Mean absolute Error: 0.05067567567567568\n",
      "R square value :  0.7933976165240544\n",
      "[[740  26]\n",
      " [ 64 946]]\n"
     ]
    },
    {
     "data": {
      "text/plain": [
       "<matplotlib.axes._subplots.AxesSubplot at 0x247bc4a0c70>"
      ]
     },
     "execution_count": 82,
     "metadata": {},
     "output_type": "execute_result"
    },
    {
     "data": {
      "image/png": "[encoded data removed]",
      "text/plain": [
       "<Figure size 576x432 with 1 Axes>"
      ]
     },
     "metadata": {},
     "output_type": "display_data"
    }
   ],
   "source": [
    "def Evaluationmatrix_ANN(y_test, y_pred):\n",
    "    print ('Mean Squared Error: '+ str(metrics.mean_squared_error(y_test,y_pred)))\n",
    "    print ('Mean absolute Error: '+ str(metrics.mean_absolute_error(y_test,y_pred)))\n",
    "\n",
    "Evaluationmatrix_ANN(y_test,predict_popular_ANN)\n",
    "\n",
    "print('R square value : ',r2_score(y_test, predict_popular_ANN))\n",
    "\n",
    "from sklearn.metrics import confusion_matrix\n",
    "cm = confusion_matrix(y_test, predict_popular_ANN.astype(\"int64\"))\n",
    "print(cm)\n",
    "index = ['Predicted Success','Predicted Unsuccess']  \n",
    "columns = ['Actual Success','Actual Unsuccess']  \n",
    "cm_df = pd.DataFrame(cm, columns, index)\n",
    "plt.figure(figsize=(8,6))\n",
    "sns.heatmap(cm,annot=True,cmap=\"Greys\",fmt=\"d\",cbar=False)"
   ]
  },
  {
   "cell_type": "code",
   "execution_count": 83,
   "metadata": {},
   "outputs": [],
   "source": [
    "#R square value of Support Vector Regressor"
   ]
  },
  {
   "cell_type": "code",
   "execution_count": 84,
   "metadata": {},
   "outputs": [
    {
     "name": "stdout",
     "output_type": "stream",
     "text": [
      "Mean Squared Error: 0.2357940523678755\n",
      "Mean absolute Error: 0.3621385180183713\n",
      "R square value :  0.03867856562120775\n",
      "[[740  26]\n",
      " [ 64 946]]\n"
     ]
    },
    {
     "data": {
      "text/plain": [
       "<matplotlib.axes._subplots.AxesSubplot at 0x247abd214c0>"
      ]
     },
     "execution_count": 84,
     "metadata": {},
     "output_type": "execute_result"
    },
    {
     "data": {
      "image/png": "[encoded data removed]",
      "text/plain": [
       "<Figure size 576x432 with 1 Axes>"
      ]
     },
     "metadata": {},
     "output_type": "display_data"
    }
   ],
   "source": [
    "def Evaluationmatrix_SVR(y_test, y_pred):\n",
    "    print ('Mean Squared Error: '+ str(metrics.mean_squared_error(y_test,y_pred)))\n",
    "    print ('Mean absolute Error: '+ str(metrics.mean_absolute_error(y_test,y_pred)))\n",
    "\n",
    "Evaluationmatrix_SVR(y_test,predict_popular_SVR)\n",
    "\n",
    "print('R square value : ',r2_score(y_test, predict_popular_SVR))\n",
    "\n",
    "from sklearn.metrics import confusion_matrix\n",
    "cm = confusion_matrix(y_test, predict_popular_ANN.astype(\"int64\"))\n",
    "print(cm)\n",
    "index = ['Predicted Success','Predicted Unsuccess']  \n",
    "columns = ['Actual Success','Actual Unsuccess']  \n",
    "cm_df = pd.DataFrame(cm, columns, index)\n",
    "plt.figure(figsize=(8,6))\n",
    "sns.heatmap(cm,annot=True,cmap=\"YlOrBr\",fmt=\"d\",cbar=False)"
   ]
  },
  {
   "cell_type": "code",
   "execution_count": 85,
   "metadata": {},
   "outputs": [],
   "source": [
    "#COMPARISMOFMODELS"
   ]
  },
  {
   "cell_type": "code",
   "execution_count": 88,
   "metadata": {},
   "outputs": [
    {
     "data": {
      "text/plain": [
       "Text(0.5, 1.0, 'Model Accracy')"
      ]
     },
     "execution_count": 88,
     "metadata": {},
     "output_type": "execute_result"
    },
    {
     "data": {
      "image/png": "[encoded data removed]",
      "text/plain": [
       "<Figure size 576x720 with 1 Axes>"
      ]
     },
     "metadata": {
      "needs_background": "light"
     },
     "output_type": "display_data"
    }
   ],
   "source": [
    "%matplotlib inline\n",
    "model_accuracy = pd.Series(data=[acc_DT,acc_RF,acc_LR,acc_NB,acc_KNN,], \n",
    "        index=['DecisionTreeClassifier','RandomForestRegressor','LogisticRegression','GaussianNB','KNeighborsClassifier'])\n",
    "fig= plt.figure(figsize=(8,10))\n",
    "model_accuracy.sort_values().plot.barh()\n",
    "plt.title('Model Accracy')\n",
    "plt.title('Model Accracy',color = 'Red',fontsize = 15)"
   ]
  },
  {
   "cell_type": "code",
   "execution_count": 89,
   "metadata": {},
   "outputs": [
    {
     "data": {
      "text/plain": [
       "RandomForestRegressor     0.880068\n",
       "GaussianNB                0.897523\n",
       "KNeighborsClassifier      0.943131\n",
       "LogisticRegression        0.948761\n",
       "DecisionTreeClassifier    0.957770\n",
       "dtype: float64"
      ]
     },
     "execution_count": 89,
     "metadata": {},
     "output_type": "execute_result"
    }
   ],
   "source": [
    "model_accuracy.sort_values()"
   ]
  },
  {
   "cell_type": "code",
   "execution_count": null,
   "metadata": {},
   "outputs": [],
   "source": []
  },
  {
   "cell_type": "code",
   "execution_count": null,
   "metadata": {},
   "outputs": [],
   "source": []
  }
 ],
 "metadata": {
  "kernelspec": {
   "display_name": "Python 3",
   "language": "python",
   "name": "python3"
  },
  "language_info": {
   "codemirror_mode": {
    "name": "ipython",
    "version": 3
   },
   "file_extension": ".py",
   "mimetype": "text/x-python",
   "name": "python",
   "nbconvert_exporter": "python",
   "pygments_lexer": "ipython3",
   "version": "3.8.3"
  }
 },
 "nbformat": 4,
 "nbformat_minor": 4
}
